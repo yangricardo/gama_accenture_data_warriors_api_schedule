{
  "nbformat": 4,
  "nbformat_minor": 0,
  "metadata": {
    "colab": {
      "name": "Menu.ipynb",
      "provenance": [],
      "collapsed_sections": []
    },
    "kernelspec": {
      "name": "python3",
      "display_name": "Python 3"
    }
  },
  "cells": [
    {
      "cell_type": "markdown",
      "metadata": {
        "id": "4xVHe25xOxFy"
      },
      "source": [
        "#1. Configurações de acesso ao Postgres"
      ]
    },
    {
      "cell_type": "code",
      "metadata": {
        "colab": {
          "base_uri": "https://localhost:8080/"
        },
        "id": "z5T63nuaMnV5",
        "outputId": "0e4a5f7b-47d5-4889-e0c2-b0444b93c999"
      },
      "source": [
        "!pip install psycopg2 psycopg2-binary"
      ],
      "execution_count": 1,
      "outputs": [
        {
          "output_type": "stream",
          "text": [
            "Requirement already satisfied: psycopg2 in /usr/local/lib/python3.7/dist-packages (2.7.6.1)\n",
            "Collecting psycopg2-binary\n",
            "\u001b[?25l  Downloading https://files.pythonhosted.org/packages/6d/45/c519a5cfac05e14b1ccb242138915855293199840598e087b935ba1d86bc/psycopg2_binary-2.8.6-cp37-cp37m-manylinux1_x86_64.whl (3.0MB)\n",
            "\u001b[K     |████████████████████████████████| 3.0MB 4.2MB/s \n",
            "\u001b[?25hInstalling collected packages: psycopg2-binary\n",
            "Successfully installed psycopg2-binary-2.8.6\n"
          ],
          "name": "stdout"
        }
      ]
    },
    {
      "cell_type": "code",
      "metadata": {
        "id": "SGnfncuoMq9K"
      },
      "source": [
        "import psycopg2\r\n",
        "class Postgres():\r\n",
        "  def __init__(self,database='postgres',user='DataWarriorsAdmin@data-warriors-postgresql',password='DataWarriorsPassword!',host='data-warriors-postgresql.postgres.database.azure.com',port='5432'):\r\n",
        "    self.connection = psycopg2.connect(host=host, database=database,user=user, password=password,port=port, sslmode='require')\r\n",
        "    self.new_cursor()\r\n",
        " \r\n",
        "  def get_connection(self):\r\n",
        "    return self.connection\r\n",
        " \r\n",
        "  def new_cursor(self):\r\n",
        "    self.cursor = self.connection.cursor()\r\n",
        "    return self.cursor\r\n",
        " \r\n",
        "  def commit(self):\r\n",
        "    self.connection.commit()\r\n",
        " \r\n",
        "  def rollback(self):\r\n",
        "    self.connection.rollback()\r\n",
        " \r\n",
        "  def fetchall(self):\r\n",
        "    return self.cursor.fetchall()\r\n",
        " \r\n",
        "  def execute(self,query):\r\n",
        "    self.cursor.execute(query)\r\n",
        "    self.commit()\r\n",
        " \r\n",
        "  def search(self,query):\r\n",
        "    self.new_cursor()\r\n",
        "    self.cursor.execute(query)\r\n",
        "    self.commit()\r\n",
        "    return self.fetchall()\r\n",
        " \r\n",
        "  def insertMany(self,query,data_list):\r\n",
        "    try:\r\n",
        "      self.new_cursor()\r\n",
        "      self.cursor.executemany(query, data_list)\r\n",
        "      self.commit()    \r\n",
        "      print('Execução da transação conclída com sucesso:', query)\r\n",
        "    except Exception as error:\r\n",
        "      self.rollback()\r\n",
        "      print('Transação falhou:',error)\r\n",
        "    \r\n",
        "  def closeConnection(self):\r\n",
        "    self.connection.close()"
      ],
      "execution_count": 2,
      "outputs": []
    },
    {
      "cell_type": "code",
      "metadata": {
        "id": "diEJTGiIMv5W"
      },
      "source": [
        "p = Postgres()"
      ],
      "execution_count": 3,
      "outputs": []
    },
    {
      "cell_type": "markdown",
      "metadata": {
        "id": "U3y425OVPSgN"
      },
      "source": [
        "#2. Criação do Menu\r\n",
        "Funcionalidades:\r\n",
        "  1. Panorama diário de quantidade de casos confirmados de COVID-19 dos 10 países do mundo com maiores números.\r\n",
        "  2. Panorama diário de quantidade de mortes de COVID-19 dos 10 países do mundo com números.\r\n",
        "  3. Total de mortes por COVID-19 dos 10 países do mundo com maiores números.\r\n",
        "  4. Total de casos confirmados por COVID-19 dos 10 países do mundo com maiores números."
      ]
    },
    {
      "cell_type": "code",
      "metadata": {
        "id": "DLwsx5OAPzxF"
      },
      "source": [
        "import pandas as pd"
      ],
      "execution_count": 6,
      "outputs": []
    },
    {
      "cell_type": "markdown",
      "metadata": {
        "id": "vw47Ri3QQ1KI"
      },
      "source": [
        "###2.1 Definindo a classe filho Menu que tem como pai a classe Postgres"
      ]
    },
    {
      "cell_type": "code",
      "metadata": {
        "id": "qHAxH98xP4Ny"
      },
      "source": [
        "class Menu(Postgres):   \r\n",
        " \r\n",
        "  def dailyCases(self):\r\n",
        "    print('\\nNúmero de casos confirmados de Covid-19 registrados na data mais recente:\\n')\r\n",
        "    return display(pd.DataFrame(super().search('''select c.countryname as Pais ,\r\n",
        "                               s.newconfirmed as Numero_Diario_Casos, \r\n",
        "                               s.lastupdated as Data_Atualizacao from summary as s\r\n",
        "                               inner join country as c\r\n",
        "                               on s.countrycode = c.countrycode \r\n",
        "                               order by s.newconfirmed desc \r\n",
        "                               limit 10;'''),columns=['País','Casos Diários','Data de Atualização']))\r\n",
        " \r\n",
        "  def dailyDeaths(self):\r\n",
        "    print('\\nNúmero de mortes por Covid-19 registradas na data mais recente:\\n ')\r\n",
        "    return display(pd.DataFrame(super().search('''select  c.countryname as Pais,\r\n",
        "                               s.newdeaths as Numero_de_mortes_diario,\r\n",
        "                               s.lastupdated as Data_de_atualizacao\r\n",
        "                               from summary as s \r\n",
        "                               inner join country as c \r\n",
        "                               on s.countrycode = c.countrycode \r\n",
        "                               order by s.newdeaths desc \r\n",
        "                               limit 10;'''),columns=['País','Mortes Diárias','Data de Atualização']))\r\n",
        " \r\n",
        "  def totalCases(self):\r\n",
        "    print('\\nTotal acumulado de casos confirmados de Covid-19 registrados até a data mais recente:\\n')\r\n",
        "    return display(pd.DataFrame(super().search('''select c.countryname as Pais,\r\n",
        "                              s.totalconfirmed as \"Número_de_mortes_total\",\r\n",
        "                              s.lastupdated as \"Data_de_atualização\"\r\n",
        "                              from summary as s \r\n",
        "                              inner join country as c \r\n",
        "                              on s.countrycode = c.countrycode\r\n",
        "                              order by s.totalconfirmed desc\r\n",
        "                              limit 10;'''),columns=['País','Total de Casos','Data de Atualização']))\r\n",
        " \r\n",
        "  def totalDeaths(self):\r\n",
        "    print('\\nTotal acumulado de mortes por Covid-19 registradas até a data mais recente:\\n ')\r\n",
        "    return display(pd.DataFrame(super().search('''select  c.countryname as Pais,\r\n",
        "                              s.totaldeaths as Numero_de_casos_total,\r\n",
        "                              s.lastupdated as Data_de_atualizacao\r\n",
        "                              from summary as s\r\n",
        "                              inner join country as c \r\n",
        "                              on s.countrycode = c.countrycode\r\n",
        "                              order by s.totaldeaths desc\r\n",
        "                              limit 10;'''),columns=['País','Total de Mortes','Data de Atualização']))"
      ],
      "execution_count": 7,
      "outputs": []
    },
    {
      "cell_type": "markdown",
      "metadata": {
        "id": "BfM0fMUNRYpH"
      },
      "source": [
        "###2.2 Definindo função de recepção do usuário"
      ]
    },
    {
      "cell_type": "code",
      "metadata": {
        "id": "2JhYe6RORKWS"
      },
      "source": [
        "def recebeOpcaoUsuario():\r\n",
        "    opcao = 0\r\n",
        " \r\n",
        "    print(\"Digite a opção que deseja executar:\\n\"\r\n",
        "          \"1. Panorama diário de quantidade de casos confirmados de COVID-19 dos 10 países do mundo com mais casos.\\n\"\r\n",
        "          \"2. Panorama diário de quantidade de mortes de COVID-19 dos 10 países do mundo com mais mortes.\\n\"\r\n",
        "          \"3. Total de mortes por COVID-19 dos 10 países do mundo com mais casos.\\n\"\r\n",
        "          \"4. Total de casos confirmados por COVID-19 dos 10 países do mundo com maiores números.\\n\"\r\n",
        "          \"5. Sair.\\n\")\r\n",
        " \r\n",
        "    while opcao < 1 or opcao > 5:\r\n",
        "        try:\r\n",
        "            opcao = int(input(\"\\nDigite uma opção de 1 a 5: \"))\r\n",
        "        except:\r\n",
        "            print(\"\\nOpção inválida. Digite novamente\\n\")\r\n",
        " \r\n",
        "    return opcao"
      ],
      "execution_count": 8,
      "outputs": []
    },
    {
      "cell_type": "markdown",
      "metadata": {
        "id": "IzCOI05YRlj7"
      },
      "source": [
        "###2.3 Chamando os modulos"
      ]
    },
    {
      "cell_type": "code",
      "metadata": {
        "id": "5HbwfsM-RmqL",
        "colab": {
          "base_uri": "https://localhost:8080/",
          "height": 1000
        },
        "outputId": "b2d6107e-696e-4c08-e9d9-0db3cbca43cc"
      },
      "source": [
        "if __name__ == '__main__':\r\n",
        "    opcao = recebeOpcaoUsuario()\r\n",
        "    instancia = Menu()\r\n",
        " \r\n",
        "    while opcao >= 1 and opcao <= 5:\r\n",
        "            if opcao == 1: \r\n",
        "                instancia.dailyCases()\r\n",
        " \r\n",
        "            elif opcao == 2: \r\n",
        "                instancia.dailyDeaths()\r\n",
        " \r\n",
        "            elif opcao == 3: \r\n",
        "                instancia.totalDeaths()\r\n",
        " \r\n",
        "            elif opcao == 4: \r\n",
        "                instancia.totalCases()\r\n",
        " \r\n",
        "            else: #sair do programa\r\n",
        "                print(\"\\nVocê saiu do programa. Obrigado e use sempre a máscara!\\n\")\r\n",
        "                break\r\n",
        "                \r\n",
        "            if opcao != 5:\r\n",
        "                opcao = recebeOpcaoUsuario()"
      ],
      "execution_count": 9,
      "outputs": [
        {
          "output_type": "stream",
          "text": [
            "Digite a opção que deseja executar:\n",
            "1. Panorama diário de quantidade de casos confirmados de COVID-19 dos 10 países do mundo com mais casos.\n",
            "2. Panorama diário de quantidade de mortes de COVID-19 dos 10 países do mundo com mais mortes.\n",
            "3. Total de mortes por COVID-19 dos 10 países do mundo com mais casos.\n",
            "4. Total de casos confirmados por COVID-19 dos 10 países do mundo com maiores números.\n",
            "5. Sair.\n",
            "\n",
            "\n",
            "Digite uma opção de 1 a 5: 1\n",
            "\n",
            "Número de casos confirmados de Covid-19 registrados na data mais recente:\n",
            "\n"
          ],
          "name": "stdout"
        },
        {
          "output_type": "display_data",
          "data": {
            "text/html": [
              "<div>\n",
              "<style scoped>\n",
              "    .dataframe tbody tr th:only-of-type {\n",
              "        vertical-align: middle;\n",
              "    }\n",
              "\n",
              "    .dataframe tbody tr th {\n",
              "        vertical-align: top;\n",
              "    }\n",
              "\n",
              "    .dataframe thead th {\n",
              "        text-align: right;\n",
              "    }\n",
              "</style>\n",
              "<table border=\"1\" class=\"dataframe\">\n",
              "  <thead>\n",
              "    <tr style=\"text-align: right;\">\n",
              "      <th></th>\n",
              "      <th>País</th>\n",
              "      <th>Casos Diários</th>\n",
              "      <th>Data de Atualização</th>\n",
              "    </tr>\n",
              "  </thead>\n",
              "  <tbody>\n",
              "    <tr>\n",
              "      <th>0</th>\n",
              "      <td>United States of America</td>\n",
              "      <td>1169754</td>\n",
              "      <td>2021-03-07</td>\n",
              "    </tr>\n",
              "    <tr>\n",
              "      <th>1</th>\n",
              "      <td>Ecuador</td>\n",
              "      <td>294999</td>\n",
              "      <td>2021-03-09</td>\n",
              "    </tr>\n",
              "    <tr>\n",
              "      <th>2</th>\n",
              "      <td>Brazil</td>\n",
              "      <td>70764</td>\n",
              "      <td>2021-03-09</td>\n",
              "    </tr>\n",
              "    <tr>\n",
              "      <th>3</th>\n",
              "      <td>France</td>\n",
              "      <td>23143</td>\n",
              "      <td>2021-03-09</td>\n",
              "    </tr>\n",
              "    <tr>\n",
              "      <th>4</th>\n",
              "      <td>Italy</td>\n",
              "      <td>19725</td>\n",
              "      <td>2021-03-09</td>\n",
              "    </tr>\n",
              "    <tr>\n",
              "      <th>5</th>\n",
              "      <td>India</td>\n",
              "      <td>18599</td>\n",
              "      <td>2021-03-07</td>\n",
              "    </tr>\n",
              "    <tr>\n",
              "      <th>6</th>\n",
              "      <td>Turkey</td>\n",
              "      <td>13755</td>\n",
              "      <td>2021-03-09</td>\n",
              "    </tr>\n",
              "    <tr>\n",
              "      <th>7</th>\n",
              "      <td>Sweden</td>\n",
              "      <td>11014</td>\n",
              "      <td>2021-03-09</td>\n",
              "    </tr>\n",
              "    <tr>\n",
              "      <th>8</th>\n",
              "      <td>Czech Republic</td>\n",
              "      <td>10524</td>\n",
              "      <td>2021-03-09</td>\n",
              "    </tr>\n",
              "    <tr>\n",
              "      <th>9</th>\n",
              "      <td>Poland</td>\n",
              "      <td>9953</td>\n",
              "      <td>2021-03-09</td>\n",
              "    </tr>\n",
              "  </tbody>\n",
              "</table>\n",
              "</div>"
            ],
            "text/plain": [
              "                       País  Casos Diários Data de Atualização\n",
              "0  United States of America        1169754          2021-03-07\n",
              "1                   Ecuador         294999          2021-03-09\n",
              "2                    Brazil          70764          2021-03-09\n",
              "3                    France          23143          2021-03-09\n",
              "4                     Italy          19725          2021-03-09\n",
              "5                     India          18599          2021-03-07\n",
              "6                    Turkey          13755          2021-03-09\n",
              "7                    Sweden          11014          2021-03-09\n",
              "8            Czech Republic          10524          2021-03-09\n",
              "9                    Poland           9953          2021-03-09"
            ]
          },
          "metadata": {
            "tags": []
          }
        },
        {
          "output_type": "stream",
          "text": [
            "Digite a opção que deseja executar:\n",
            "1. Panorama diário de quantidade de casos confirmados de COVID-19 dos 10 países do mundo com mais casos.\n",
            "2. Panorama diário de quantidade de mortes de COVID-19 dos 10 países do mundo com mais mortes.\n",
            "3. Total de mortes por COVID-19 dos 10 países do mundo com mais casos.\n",
            "4. Total de casos confirmados por COVID-19 dos 10 países do mundo com maiores números.\n",
            "5. Sair.\n",
            "\n",
            "\n",
            "Digite uma opção de 1 a 5: 6\n",
            "\n",
            "Digite uma opção de 1 a 5: 3\n",
            "\n",
            "Total acumulado de mortes por Covid-19 registradas até a data mais recente:\n",
            " \n"
          ],
          "name": "stdout"
        },
        {
          "output_type": "display_data",
          "data": {
            "text/html": [
              "<div>\n",
              "<style scoped>\n",
              "    .dataframe tbody tr th:only-of-type {\n",
              "        vertical-align: middle;\n",
              "    }\n",
              "\n",
              "    .dataframe tbody tr th {\n",
              "        vertical-align: top;\n",
              "    }\n",
              "\n",
              "    .dataframe thead th {\n",
              "        text-align: right;\n",
              "    }\n",
              "</style>\n",
              "<table border=\"1\" class=\"dataframe\">\n",
              "  <thead>\n",
              "    <tr style=\"text-align: right;\">\n",
              "      <th></th>\n",
              "      <th>País</th>\n",
              "      <th>Total de Mortes</th>\n",
              "      <th>Data de Atualização</th>\n",
              "    </tr>\n",
              "  </thead>\n",
              "  <tbody>\n",
              "    <tr>\n",
              "      <th>0</th>\n",
              "      <td>United States of America</td>\n",
              "      <td>515148</td>\n",
              "      <td>2021-03-07</td>\n",
              "    </tr>\n",
              "    <tr>\n",
              "      <th>1</th>\n",
              "      <td>Brazil</td>\n",
              "      <td>268370</td>\n",
              "      <td>2021-03-09</td>\n",
              "    </tr>\n",
              "    <tr>\n",
              "      <th>2</th>\n",
              "      <td>Mexico</td>\n",
              "      <td>191789</td>\n",
              "      <td>2021-03-09</td>\n",
              "    </tr>\n",
              "    <tr>\n",
              "      <th>3</th>\n",
              "      <td>France</td>\n",
              "      <td>177902</td>\n",
              "      <td>2021-03-09</td>\n",
              "    </tr>\n",
              "    <tr>\n",
              "      <th>4</th>\n",
              "      <td>India</td>\n",
              "      <td>157853</td>\n",
              "      <td>2021-03-07</td>\n",
              "    </tr>\n",
              "    <tr>\n",
              "      <th>5</th>\n",
              "      <td>United Kingdom</td>\n",
              "      <td>124736</td>\n",
              "      <td>2021-03-07</td>\n",
              "    </tr>\n",
              "    <tr>\n",
              "      <th>6</th>\n",
              "      <td>Italy</td>\n",
              "      <td>100479</td>\n",
              "      <td>2021-03-09</td>\n",
              "    </tr>\n",
              "    <tr>\n",
              "      <th>7</th>\n",
              "      <td>Russian Federation</td>\n",
              "      <td>88315</td>\n",
              "      <td>2021-03-09</td>\n",
              "    </tr>\n",
              "    <tr>\n",
              "      <th>8</th>\n",
              "      <td>Germany</td>\n",
              "      <td>72534</td>\n",
              "      <td>2021-03-09</td>\n",
              "    </tr>\n",
              "    <tr>\n",
              "      <th>9</th>\n",
              "      <td>Spain</td>\n",
              "      <td>71138</td>\n",
              "      <td>2021-03-07</td>\n",
              "    </tr>\n",
              "  </tbody>\n",
              "</table>\n",
              "</div>"
            ],
            "text/plain": [
              "                       País  Total de Mortes Data de Atualização\n",
              "0  United States of America           515148          2021-03-07\n",
              "1                    Brazil           268370          2021-03-09\n",
              "2                    Mexico           191789          2021-03-09\n",
              "3                    France           177902          2021-03-09\n",
              "4                     India           157853          2021-03-07\n",
              "5            United Kingdom           124736          2021-03-07\n",
              "6                     Italy           100479          2021-03-09\n",
              "7        Russian Federation            88315          2021-03-09\n",
              "8                   Germany            72534          2021-03-09\n",
              "9                     Spain            71138          2021-03-07"
            ]
          },
          "metadata": {
            "tags": []
          }
        },
        {
          "output_type": "stream",
          "text": [
            "Digite a opção que deseja executar:\n",
            "1. Panorama diário de quantidade de casos confirmados de COVID-19 dos 10 países do mundo com mais casos.\n",
            "2. Panorama diário de quantidade de mortes de COVID-19 dos 10 países do mundo com mais mortes.\n",
            "3. Total de mortes por COVID-19 dos 10 países do mundo com mais casos.\n",
            "4. Total de casos confirmados por COVID-19 dos 10 países do mundo com maiores números.\n",
            "5. Sair.\n",
            "\n",
            "\n",
            "Digite uma opção de 1 a 5: 5\n",
            "\n",
            "Você saiu do programa. Obrigado e use sempre a máscara!\n",
            "\n"
          ],
          "name": "stdout"
        }
      ]
    }
  ]
}